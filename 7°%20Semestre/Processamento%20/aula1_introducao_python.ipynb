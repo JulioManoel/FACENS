{
  "cells": [
    {
      "cell_type": "markdown",
      "metadata": {
        "id": "view-in-github",
        "colab_type": "text"
      },
      "source": [
        "<a href=\"https://colab.research.google.com/github/JulioManoel/FACENS/blob/main/7%C2%B0%2520Semestre/Processamento%2520/aula1_introducao_python.ipynb\" target=\"_parent\"><img src=\"https://colab.research.google.com/assets/colab-badge.svg\" alt=\"Open In Colab\"/></a>"
      ]
    },
    {
      "cell_type": "markdown",
      "metadata": {
        "id": "mRXT7u1MyERn"
      },
      "source": [
        "# <center>Centro Universitário Facens<br/></center>\n",
        "<br/>\n",
        "<font size=\"4\"><center><b>Disciplina: Processamento de Imagens</b></center></font>\n",
        "  \n",
        "<font size=\"3\"><center>Prof. Renato Moraes Silva</center></font>\n",
        "<br/>"
      ]
    },
    {
      "cell_type": "markdown",
      "metadata": {
        "id": "iBTp-uu6yERs"
      },
      "source": [
        "# <center>Exercício - Introdução ao Python</center>\n",
        "\n",
        "Neste exercício, são apresentados alguns recursos básicos do Python que geralmente são necessários nos projetos de Processamento de Imagens.\n",
        "\n",
        "### Objetivos de aprendizagem\n",
        "- Entender como criar vetores e matrizes no Python\n",
        "- Aprender indexação e fatiamento (*slicing*) de matrizes no Python\n",
        "- Aprender a executar operações matriciais e obter estatísticas\n",
        "- Conhecer a relação entre matriz e imagem"
      ]
    },
    {
      "cell_type": "markdown",
      "metadata": {
        "id": "oLfFvnuzyERv"
      },
      "source": [
        "# Numpy - vetores e matrizes\n",
        "\n",
        "A biblioteca `numpy` do python permite a criação, manipulações e operações matemáticas de vetores e matrizes.\n",
        "\n",
        "Primeiro, você deve importar a biblioteca, antes de usar suas funções."
      ]
    },
    {
      "cell_type": "code",
      "execution_count": 2,
      "metadata": {
        "scrolled": true,
        "id": "rf82gpqAyERx"
      },
      "outputs": [],
      "source": [
        "import numpy as np"
      ]
    },
    {
      "cell_type": "markdown",
      "metadata": {
        "id": "inAdjZUVyERy"
      },
      "source": [
        "## Criando vetores e matrizes\n",
        "\n",
        "Criando um vetor com os seguintes valores $[1,2,3,4,5]$."
      ]
    },
    {
      "cell_type": "code",
      "execution_count": 3,
      "metadata": {
        "id": "sm46jyX2yERz",
        "colab": {
          "base_uri": "https://localhost:8080/",
          "height": 52
        },
        "outputId": "be0559ad-0db9-4f0d-d8c4-c1c3e5e754c6"
      },
      "outputs": [
        {
          "output_type": "stream",
          "name": "stdout",
          "text": [
            "[1 2 3 4 5]\n"
          ]
        },
        {
          "output_type": "display_data",
          "data": {
            "text/plain": [
              "array([1, 2, 3, 4, 5])"
            ]
          },
          "metadata": {}
        }
      ],
      "source": [
        "vec = np.array([1,2,3,4,5])\n",
        "\n",
        "print(vec)\n",
        "display(vec)"
      ]
    },
    {
      "cell_type": "markdown",
      "metadata": {
        "id": "2BxZHoDpyER1"
      },
      "source": [
        "Podemos criar um vetor de elementos sequenciais usando a função `arange` do `numpy`. Por exemplo, vamos criar um vetor com valores de 0 até 7."
      ]
    },
    {
      "cell_type": "code",
      "execution_count": null,
      "metadata": {
        "id": "-4uvTDfxyER2"
      },
      "outputs": [],
      "source": [
        "\n",
        "\n",
        "\n",
        "\n"
      ]
    },
    {
      "cell_type": "markdown",
      "metadata": {
        "id": "SiIFKNglyER3"
      },
      "source": [
        "Agora, vamos criar um vetor de elementos sequenciais de 5 até 10."
      ]
    },
    {
      "cell_type": "code",
      "execution_count": null,
      "metadata": {
        "id": "GR1faSXyyER5"
      },
      "outputs": [],
      "source": [
        "\n",
        "\n"
      ]
    },
    {
      "cell_type": "markdown",
      "metadata": {
        "id": "2m9SdpBJyER6"
      },
      "source": [
        "Nós podemos também criar um vetor sequencial variando de 2 em 2 ou com outros intervalos."
      ]
    },
    {
      "cell_type": "code",
      "execution_count": null,
      "metadata": {
        "id": "EitDfTu_yER7"
      },
      "outputs": [],
      "source": [
        "\n",
        "\n",
        "\n"
      ]
    },
    {
      "cell_type": "markdown",
      "metadata": {
        "id": "VTynusEtyER8"
      },
      "source": [
        "Vetores sequenciais podem ser usados em laços de repetição. Por exemplo, vamos imprimir todos os valores entre 2 e 10 usando um laço de repetição `for`."
      ]
    },
    {
      "cell_type": "code",
      "execution_count": null,
      "metadata": {
        "id": "ZDDRDi15yER9"
      },
      "outputs": [],
      "source": [
        "\n",
        "\n",
        "\n"
      ]
    },
    {
      "cell_type": "markdown",
      "metadata": {
        "id": "ZkxZAiz_yER9"
      },
      "source": [
        "Nós também podemos criar um vetor com $n$-zeros ou $n$-uns."
      ]
    },
    {
      "cell_type": "code",
      "execution_count": null,
      "metadata": {
        "id": "BDcqiDVVyER9"
      },
      "outputs": [],
      "source": [
        "\n",
        "\n",
        "\n",
        "\n"
      ]
    },
    {
      "cell_type": "markdown",
      "metadata": {
        "id": "i-ewk4-_yER-"
      },
      "source": [
        "Criando uma matriz com os valores: $\n",
        "  \\begin{bmatrix}\n",
        "    0 & 0 & 0 & 0 & 0\\\\\n",
        "    0 & 250 & 0 & 255 & 0\\\\\n",
        "    0 & 0 & 0 & 0 & 0\\\\\n",
        "    0 & 255 & 240 & 245 & 0\\\\\n",
        "    0 & 0 & 0 & 0 & 0 \\\\\n",
        "  \\end{bmatrix}$"
      ]
    },
    {
      "cell_type": "code",
      "execution_count": null,
      "metadata": {
        "id": "Rr3RRnWmyER-"
      },
      "outputs": [],
      "source": [
        "\n",
        "\n",
        "\n",
        "\n",
        "\n"
      ]
    },
    {
      "cell_type": "markdown",
      "metadata": {
        "id": "3GjYBOp_yER_"
      },
      "source": [
        "Uma matriz é também uma imagem. Portanto, pode plotar a imagem gerada pela matriz acima. Para isso, você pode usar a função *imshow* da biblioteca biblioteca ```matplotlib.pyplot```.\n",
        "\n",
        "Quando queremos que a imagem seja plotada em tons de cinza, é necessário passar o argumento 'gray' para o método *imshow*, além de informar o maior (*vmax*) e o menor (*vmin*) valor da escala de cinza. Por exemplo, considerando que a imagem tenha 16 tons de cinza, *vmax* deve ser setado com 15, enquanto *vmin* com 0. Se nenhum valor for passado, o método considera o maior e o menor tom de cinza automaticamente, com base nos pixels da imagem de entrada.\n",
        "\n",
        "Obs.: converta a imagem para o tipo ```uint8``` usando a função ```astype```."
      ]
    },
    {
      "cell_type": "code",
      "execution_count": null,
      "metadata": {
        "id": "YhV5-TdSyER_"
      },
      "outputs": [],
      "source": [
        "\n",
        "\n",
        "\n",
        "\n",
        "\n",
        "\n"
      ]
    },
    {
      "cell_type": "markdown",
      "metadata": {
        "id": "8gzDRoEwyESA"
      },
      "source": [
        "Caso você queira gerar uma imagem colorida, você deve criar uma matriz onde o valor de cada linha e coluna é um vetor de três dimensões cujos valores podem variar entre 0 e 255.\n",
        "\n",
        "Obs.: Defina a imagem com o tipo ```uint8```."
      ]
    },
    {
      "cell_type": "code",
      "execution_count": null,
      "metadata": {
        "id": "cho0M3ZoyESA"
      },
      "outputs": [],
      "source": [
        "\n",
        "\n",
        "\n",
        "\n",
        "\n",
        "\n",
        "\n"
      ]
    },
    {
      "cell_type": "markdown",
      "metadata": {
        "id": "-h3Yh9ThyESA"
      },
      "source": [
        "Nós também podemos criar uma matriz de valores zero e uma matriz de valores um:"
      ]
    },
    {
      "cell_type": "code",
      "execution_count": null,
      "metadata": {
        "id": "oK0ex6NryESB"
      },
      "outputs": [],
      "source": [
        "\n",
        "\n",
        "\n",
        "\n",
        "\n"
      ]
    },
    {
      "cell_type": "markdown",
      "metadata": {
        "id": "-GRPJQnuyESC"
      },
      "source": [
        "## Selecionando elementos de vetores e matrizes\n",
        "\n",
        "Suponha que temos um vetor $[a,b,c,d,e,f,g,h,i]$. Nós podemos selecionar vários subconjuntos de elementos desse vetor, como:\n",
        "\n",
        "- três primeiros elementos\n",
        "- todos os valores após o quinto elemento\n",
        "- os três ultimos valores\n",
        "- os valores entre o quinta elemento até o penúltimo elemento\n",
        "\n",
        "**Observação**: no python, o índice começa a contar em 0."
      ]
    },
    {
      "cell_type": "code",
      "execution_count": null,
      "metadata": {
        "id": "SnSBSy75yESC"
      },
      "outputs": [],
      "source": [
        "\n",
        "\n",
        "\n",
        "\n",
        "\n"
      ]
    },
    {
      "cell_type": "markdown",
      "metadata": {
        "id": "Xt0_ePLtyESC"
      },
      "source": [
        "Suponha que temos um array: $\\begin{bmatrix}\n",
        "    1a & 1b & 1c & 1d & 1e & 1f & 1g & 1h & 1i \\\\\n",
        "    2a & 2b & 2c & 2d & 2e & 2f & 2g & 2h & 2i \\\\\n",
        "    3a & 3b & 3c & 3d & 3e & 3f & 3g & 3h & 3i \\\\\n",
        "    4a & 4b & 4c & 4d & 4e & 4f & 4g & 4h & 4i \\\\\n",
        "  \\end{bmatrix}$.\n",
        "\n",
        "Nós podemos selecionar vários subconjuntos de elementos dessa matriz, como:\n",
        "- todos os elementos da coluna 3\n",
        "- todos os elementos da linha 2\n",
        "- todos os elementos das duas primeiras colunas\n",
        "- todos os elementos das duas primeiras linhas\n",
        "- apenas os elementos das 2 primeiras linhas e das 2 primeiras colunas\n",
        "- apenas os elementos das 2 últimas linhas e das 4 últimas colunas\n",
        "- apenas os elementos das linhas 2 até 4 e das colunas 4 até 6"
      ]
    },
    {
      "cell_type": "code",
      "execution_count": null,
      "metadata": {
        "id": "NBw9756nyESD"
      },
      "outputs": [],
      "source": [
        "# criando uma matriz\n",
        "arrayA = np.array( [['1a','1b','1c','1d','1e','1f','1g','1h','1i'],\n",
        "                    ['2a','2b','2c','2d','2e','2f','2g','2h','2i'],\n",
        "                    ['3a','3b','3c','3d','3e','3f','3g','3h','3i'],\n",
        "                    ['4a','4b','4c','4d','4e','4f','4g', '4h','4i']])\n",
        "\n",
        "\n",
        "\n",
        "\n",
        "\n",
        "\n",
        "\n"
      ]
    },
    {
      "cell_type": "markdown",
      "metadata": {
        "id": "JW2kVE1pyESD"
      },
      "source": [
        "Nós podemos combinar as operações mostradas acima para gerar imagens. Por exemplo, no exemplo abaixo, iremos criar uma imagem toda azul."
      ]
    },
    {
      "cell_type": "code",
      "execution_count": null,
      "metadata": {
        "id": "a-YtJ_E0yESD"
      },
      "outputs": [],
      "source": [
        "\n",
        "\n",
        "\n",
        "\n",
        "\n",
        "\n"
      ]
    },
    {
      "cell_type": "markdown",
      "metadata": {
        "id": "hhAaaINwyESE"
      },
      "source": [
        "Agora, iremos misturar a cor azul da imagem com uma nova cor: a verde. Para isso, iremos adicionar a cor verde no segundo canal de cor de cada pixel da primeira coluna da imagem."
      ]
    },
    {
      "cell_type": "code",
      "execution_count": null,
      "metadata": {
        "id": "_24tWP9SyESE"
      },
      "outputs": [],
      "source": [
        "\n",
        "\n",
        "\n",
        "\n",
        "\n",
        "\n",
        "\n"
      ]
    },
    {
      "cell_type": "markdown",
      "metadata": {
        "id": "cqHG5gQ3yESE"
      },
      "source": [
        "Iremos pintar a última linha com a cor vermelha."
      ]
    },
    {
      "cell_type": "code",
      "execution_count": null,
      "metadata": {
        "id": "Rf-GBIT7yESF"
      },
      "outputs": [],
      "source": [
        "\n",
        "\n",
        "\n",
        "\n",
        "\n",
        "\n",
        "\n",
        "\n"
      ]
    },
    {
      "cell_type": "markdown",
      "metadata": {
        "id": "pxV4GYFPyESF"
      },
      "source": [
        "## Operações básicas com vetores e matrizes\n",
        "\n",
        "Soma e subtração entre vetores."
      ]
    },
    {
      "cell_type": "code",
      "execution_count": null,
      "metadata": {
        "id": "1FfPaF79yESF"
      },
      "outputs": [],
      "source": [
        "\n",
        "\n",
        "\n",
        "\n"
      ]
    },
    {
      "cell_type": "markdown",
      "metadata": {
        "id": "h8PZ0Yw5yESG"
      },
      "source": [
        "Soma e subtração entre matrizes."
      ]
    },
    {
      "cell_type": "code",
      "execution_count": null,
      "metadata": {
        "id": "jt-bNmKXyESG"
      },
      "outputs": [],
      "source": [
        "\n",
        "\n",
        "\n",
        "\n",
        "\n",
        "\n",
        "\n"
      ]
    },
    {
      "cell_type": "markdown",
      "metadata": {
        "id": "6iUDUXaByESG"
      },
      "source": [
        "Produto entre duas matrizes.\n",
        "\n",
        "Obs.: para isso ser possível, a quantidade de colunas da primeira, deve ser igual a quantidade de linhas da segunda"
      ]
    },
    {
      "cell_type": "code",
      "execution_count": null,
      "metadata": {
        "id": "PKMpHPHkyESH"
      },
      "outputs": [],
      "source": [
        "\n",
        "\n",
        "\n",
        "\n",
        "\n"
      ]
    },
    {
      "cell_type": "markdown",
      "metadata": {
        "id": "BEy97gZEyESH"
      },
      "source": [
        "Se eu quiser fazer a multiplicação matricial da matriz A por ela mesma, não é possível pois a quantidade de linhas dela é diferente da quantidade de colunas.\n",
        "\n",
        "Porém, eu consigo resolver esse problema, multiplicando A pela sua transposta."
      ]
    },
    {
      "cell_type": "code",
      "execution_count": null,
      "metadata": {
        "id": "PnFhyO-xyESH"
      },
      "outputs": [],
      "source": [
        "\n",
        "\n",
        "\n",
        "\n",
        "\n",
        "\n"
      ]
    },
    {
      "cell_type": "markdown",
      "metadata": {
        "id": "ybq3JREwyESI"
      },
      "source": [
        "Média dos valores de uma matriz."
      ]
    },
    {
      "cell_type": "code",
      "execution_count": null,
      "metadata": {
        "id": "ehPORDREyESJ"
      },
      "outputs": [],
      "source": [
        "\n",
        "\n",
        "\n",
        "\n",
        "\n",
        "\n",
        "\n"
      ]
    },
    {
      "cell_type": "markdown",
      "metadata": {
        "id": "AfikCWyKyESJ"
      },
      "source": [
        "Desvio padrão dos valores de uma matriz."
      ]
    },
    {
      "cell_type": "code",
      "execution_count": null,
      "metadata": {
        "id": "kr5WfgF2yESK"
      },
      "outputs": [],
      "source": [
        "\n",
        "\n",
        "\n",
        "\n",
        "\n"
      ]
    },
    {
      "cell_type": "markdown",
      "metadata": {
        "id": "NldmbO6wyESK"
      },
      "source": [
        "Mediana dos valores de uma matriz"
      ]
    },
    {
      "cell_type": "code",
      "execution_count": null,
      "metadata": {
        "id": "6hdGhxvLyESL"
      },
      "outputs": [],
      "source": [
        "\n",
        "\n",
        "\n",
        "\n",
        "\n",
        "\n",
        "\n",
        "\n",
        "\n"
      ]
    },
    {
      "cell_type": "markdown",
      "metadata": {
        "id": "D-gLXZoiyESM"
      },
      "source": [
        "Outras funções para vetores e matrizes.\n",
        "* `np.min()` &rarr; valor mínimo\n",
        "* `np.max()` &rarr; valor máximo\n",
        "* `np.sort(A)` &rarr; retorna o vetor $A$ ordenado\n",
        "* `np.argsort(A)` &rarr; retorna os índices do vetor $A$ ordenado\n",
        "* `np.var()` &rarr; variância\n",
        "* `np.shape()` &rarr; dimensões da matriz\n",
        "* `np.transpose()` &rarr; transposta da matriz\n",
        "* `np.concatenate(arrays, axis=numero_do_eixo)` &rarr; concatena vetores ou matrizes\n",
        "* `vstack(A,B)` &rarr; empilha verticalmente\n",
        "* `hstack(A,B)` &rarr; empilha horizontalmente\n",
        "* `np.where(A>n)` &rarr; elementos em $A$ maiores que $n$"
      ]
    },
    {
      "cell_type": "markdown",
      "metadata": {
        "id": "It_8e2FQyESM"
      },
      "source": [
        "## Exercícios\n",
        "\n",
        "**Ex. 1**. Crie duas matrizes com os nomes $ExA$ e $ExB$ preenchidas com os seguintes valores:\n",
        "\n",
        "$ExA = \\begin{bmatrix}\n",
        "    12 & 9 & 4 & 1 \\\\\n",
        "    11 & 5 & 8 & 1 \\\\\n",
        "    1 & 2 & 3 & 1 \\\\\n",
        "  \\end{bmatrix}\n",
        "$,\n",
        "$\n",
        "ExB = \\begin{bmatrix}\n",
        "    1 & 5 \\\\\n",
        "    1 & 7 \\\\\n",
        "    1 & 9 \\\\\n",
        "    1 & 1 \\\\\n",
        "  \\end{bmatrix}\n",
        "$. Após isso, imprima as duas matrizes."
      ]
    },
    {
      "cell_type": "code",
      "execution_count": null,
      "metadata": {
        "id": "k-wKLEb1yESN"
      },
      "outputs": [],
      "source": [
        "################# ESCREVA SEU CÓDIGO AQUI  ###############################\n",
        "\n",
        "\n",
        "\n",
        "\n",
        "\n",
        "\n",
        "##########################################################################"
      ]
    },
    {
      "cell_type": "markdown",
      "metadata": {
        "id": "ULjJdId8yESN"
      },
      "source": [
        "**Ex. 2**. Crie uma matriz $ExC$ usando a seguinte operação: $ExC = ExA \\cdot ExB$. Depois, imprima $ExC$."
      ]
    },
    {
      "cell_type": "code",
      "execution_count": null,
      "metadata": {
        "id": "BShfIAXNyESN"
      },
      "outputs": [],
      "source": [
        "################# ESCREVA SEU CÓDIGO AQUI  ###############################\n",
        "\n",
        "\n",
        "\n",
        "\n",
        "\n",
        "\n",
        "##########################################################################"
      ]
    },
    {
      "cell_type": "markdown",
      "metadata": {
        "id": "HfMVkAyLyESN"
      },
      "source": [
        "**Ex. 3**. Crie uma função que retorne a média e o desvio padrão das linhas de uma matriz e a média e desvio padrão das colunas de uma matriz. Depois teste sua função com a matriz $ExC$."
      ]
    },
    {
      "cell_type": "code",
      "execution_count": null,
      "metadata": {
        "id": "ZbXmWA96yESO"
      },
      "outputs": [],
      "source": [
        "################# ESCREVA SEU CÓDIGO AQUI  ###############################\n",
        "\n",
        "\n",
        "\n",
        "\n",
        "\n",
        "\n",
        "\n",
        "\n",
        "\n",
        "##########################################################################"
      ]
    },
    {
      "cell_type": "markdown",
      "metadata": {
        "id": "DYrWgSh4yESO"
      },
      "source": [
        "**Ex. 4**. Crie uma matriz $ExD$ com os valores das duas últimas colunas de $ExA$. Depois, calcule a média dos valores de $ExD$."
      ]
    },
    {
      "cell_type": "code",
      "execution_count": null,
      "metadata": {
        "scrolled": true,
        "id": "2ZK8jgcnyESP"
      },
      "outputs": [],
      "source": [
        "################# ESCREVA SEU CÓDIGO AQUI  ###############################\n",
        "\n",
        "\n",
        "\n",
        "\n",
        "\n",
        "\n",
        "##########################################################################"
      ]
    },
    {
      "cell_type": "markdown",
      "metadata": {
        "id": "BQpau2e1yESP"
      },
      "source": [
        "**Ex. 5**. Crie uma matriz $ExE$ com os valores das linhas 1 e 2 e das colunas 1 e 2 de $ExA$."
      ]
    },
    {
      "cell_type": "code",
      "execution_count": null,
      "metadata": {
        "scrolled": true,
        "id": "zb6lrCJqyESP"
      },
      "outputs": [],
      "source": [
        "################# ESCREVA SEU CÓDIGO AQUI  ###############################\n",
        "\n",
        "\n",
        "\n",
        "\n",
        "\n",
        "\n",
        "\n",
        "##########################################################################"
      ]
    },
    {
      "cell_type": "markdown",
      "metadata": {
        "id": "Pa0eeLmoyESP"
      },
      "source": [
        "**Ex. 6**. Crie e imprima uma matriz $ExF$ com 5 linhas e 2 colunas e todos os valores iguais a 0."
      ]
    },
    {
      "cell_type": "code",
      "execution_count": null,
      "metadata": {
        "id": "Voc5I-EUyESQ"
      },
      "outputs": [],
      "source": [
        "################# ESCREVA SEU CÓDIGO AQUI  ###############################\n",
        "\n",
        "\n",
        "\n",
        "\n",
        "\n",
        "\n",
        "##########################################################################"
      ]
    },
    {
      "cell_type": "markdown",
      "metadata": {
        "id": "8ei4BbQhyESQ"
      },
      "source": [
        "**Ex. 7**. Crie e imprima uma matriz $ExG$ com 4 linhas e 3 colunas e todos os valores iguais a 1."
      ]
    },
    {
      "cell_type": "code",
      "execution_count": null,
      "metadata": {
        "id": "Zo57JkgLyESQ"
      },
      "outputs": [],
      "source": [
        "################# ESCREVA SEU CÓDIGO AQUI  ###############################\n",
        "\n",
        "\n",
        "\n",
        "\n",
        "\n",
        "\n",
        "##########################################################################"
      ]
    },
    {
      "cell_type": "markdown",
      "metadata": {
        "id": "JV7CcVcayESR"
      },
      "source": [
        "**Ex. 8**. Crie uma função que retorne o fatorial de um número. Teste a função que você criou, calculando o fatorial de 8.\n",
        "\n",
        "Fórmula do fatorial: $n! = (1 * 2 * 3 * ... * (n-2) * (n-1) * n)$\n",
        "\n",
        "Obs: é obrigatório usar um laço `for`.\n",
        "\n",
        "Exemplos:\n",
        "* $1! = 1$\n",
        "* $2! = 1*2$\n",
        "* $3! = 1*2*3$\n",
        "* $4! = 1*2*3*4$\n",
        "* $5! = 1*2*3*4*5$"
      ]
    },
    {
      "cell_type": "code",
      "execution_count": null,
      "metadata": {
        "id": "W3U9dz8kyESR"
      },
      "outputs": [],
      "source": [
        "################# ESCREVA SEU CÓDIGO AQUI  ###############################\n",
        "\n",
        "\n",
        "\n",
        "\n",
        "\n",
        "\n",
        "\n",
        "\n",
        "##########################################################################"
      ]
    },
    {
      "cell_type": "markdown",
      "metadata": {
        "id": "UGkN94OkyESR"
      },
      "source": [
        "**Ex. 9.** Crie um retângulo na cor verde. Depois, desenhe a letra **E** maiúscula nesse retângulo com a cor vermelha."
      ]
    },
    {
      "cell_type": "code",
      "execution_count": null,
      "metadata": {
        "id": "BPMvxT6SyESR"
      },
      "outputs": [],
      "source": [
        "################# ESCREVA SEU CÓDIGO AQUI  ###############################\n",
        "\n",
        "\n",
        "\n",
        "\n",
        "\n",
        "\n",
        "##########################################################################"
      ]
    }
  ],
  "metadata": {
    "kernelspec": {
      "display_name": "Python 3 (ipykernel)",
      "language": "python",
      "name": "python3"
    },
    "language_info": {
      "codemirror_mode": {
        "name": "ipython",
        "version": 3
      },
      "file_extension": ".py",
      "mimetype": "text/x-python",
      "name": "python",
      "nbconvert_exporter": "python",
      "pygments_lexer": "ipython3",
      "version": "3.11.5"
    },
    "vscode": {
      "interpreter": {
        "hash": "d8d3ff3e2b5334ad4397068f2512301b7247a0268b8f631cb00f1cdcbb1f6f82"
      }
    },
    "colab": {
      "provenance": [],
      "include_colab_link": true
    }
  },
  "nbformat": 4,
  "nbformat_minor": 0
}