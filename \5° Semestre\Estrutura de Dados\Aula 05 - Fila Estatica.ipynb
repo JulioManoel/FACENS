{
  "nbformat": 4,
  "nbformat_minor": 0,
  "metadata": {
    "colab": {
      "provenance": [],
      "authorship_tag": "ABX9TyMJDUETX2mFmTwbJ+UouuPb",
      "include_colab_link": true
    },
    "kernelspec": {
      "name": "python3",
      "display_name": "Python 3"
    },
    "language_info": {
      "name": "python"
    }
  },
  "cells": [
    {
      "cell_type": "markdown",
      "metadata": {
        "id": "view-in-github",
        "colab_type": "text"
      },
      "source": [
        "<a href=\"https://colab.research.google.com/github/JulioManoel/FACENS/blob/main/%5C5%C2%B0%20Semestre%5CEstrutura%20de%20Dados%5CAula%2005%20-%20Fila%20Estatica.ipynb\" target=\"_parent\"><img src=\"https://colab.research.google.com/assets/colab-badge.svg\" alt=\"Open In Colab\"/></a>"
      ]
    },
    {
      "cell_type": "markdown",
      "source": [
        "# Fila Estática"
      ],
      "metadata": {
        "id": "z7xeRiNF2GPU"
      }
    },
    {
      "cell_type": "code",
      "execution_count": 7,
      "metadata": {
        "colab": {
          "base_uri": "https://localhost:8080/"
        },
        "id": "8O3AqcO72FPZ",
        "outputId": "d3ae6144-41a8-4a0b-9edf-d4d83f63c88a"
      },
      "outputs": [
        {
          "output_type": "stream",
          "name": "stdout",
          "text": [
            "[]\n"
          ]
        }
      ],
      "source": [
        "class Fila:\n",
        "  \"\"\"\n",
        "  Fila Estática Circular\n",
        "  \"\"\"\n",
        "\n",
        "  def __init__(self, capacity):\n",
        "    self.capacity = capacity\n",
        "    self.front = -1\n",
        "    self.rear = -1\n",
        "    self.size = 0\n",
        "    self.data = [] * capacity\n",
        "\n",
        "  def isEmpty(self):\n",
        "    return self.size == 0\n",
        "\n",
        "  def isFull(self):\n",
        "    return self.size > self.capacity\n",
        "\n",
        "  def enqueue(self):\n",
        "    \n",
        "  \n",
        "  def __str__(self):\n",
        "    if self.isEmpty():\n",
        "      return \"[]\"\n",
        "    else:\n",
        "      print(self.data)\n",
        "\n",
        "## Testa fila\n",
        "fila = Fila(capacity=5)\n",
        "print(fila)"
      ]
    }
  ]
}