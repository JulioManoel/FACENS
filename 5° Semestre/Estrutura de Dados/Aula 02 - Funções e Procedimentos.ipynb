{
  "nbformat": 4,
  "nbformat_minor": 0,
  "metadata": {
    "colab": {
      "provenance": [],
      "authorship_tag": "ABX9TyMiPTSjy0G7c9k2Y0latOmV",
      "include_colab_link": true
    },
    "kernelspec": {
      "name": "python3",
      "display_name": "Python 3"
    },
    "language_info": {
      "name": "python"
    }
  },
  "cells": [
    {
      "cell_type": "markdown",
      "metadata": {
        "id": "view-in-github",
        "colab_type": "text"
      },
      "source": [
        "<a href=\"https://colab.research.google.com/github/JulioManoel/FACENS/blob/main/5%C2%B0%20Semestre/Estrutura%20de%20Dados/Aula%2002%20-%20Fun%C3%A7%C3%B5es%20e%20Procedimentos.ipynb\" target=\"_parent\"><img src=\"https://colab.research.google.com/assets/colab-badge.svg\" alt=\"Open In Colab\"/></a>"
      ]
    },
    {
      "cell_type": "markdown",
      "source": [
        "#Funções e Procedimentos\n",
        "\n",
        "---\n",
        "\n",
        "\n",
        "\n",
        "Funções -> Retorna algo<br>\n",
        "Procedimentos -> São funções que não retorna nada"
      ],
      "metadata": {
        "id": "gOqxXH9vsfCF"
      }
    },
    {
      "cell_type": "code",
      "source": [
        "## Exemplo de Procedimentos\n",
        "def soma(num1, num2):                    ## Mostra a soma de dois números\n",
        "  soma = num1 + num2\n",
        "  print('Soma:', soma);\n",
        "\n",
        "soma(10, 20)\n",
        "\n",
        "## Exemplo de Função\n",
        "def imprime(num1):                       ## Retorna o valor de todos os números até num1\n",
        "  soma = 0\n",
        "  for i in range(num1):\n",
        "    soma += i\n",
        "  return soma\n",
        "\n",
        "resultado = imprime(10)\n",
        "print('Resultado:', resultado)"
      ],
      "metadata": {
        "id": "jW5PuAoNstYN"
      },
      "execution_count": null,
      "outputs": []
    },
    {
      "cell_type": "markdown",
      "source": [
        "Retorno de n valores em Python"
      ],
      "metadata": {
        "id": "zsu5Io-Hunca"
      }
    },
    {
      "cell_type": "code",
      "source": [
        "def soma(num1, num2):\n",
        "  soma = num1 + num2\n",
        "  mult = 1\n",
        "  for i in range(num1+1):\n",
        "    soma = soma + 1\n",
        "    if i > 0:\n",
        "      mult *= i\n",
        "  return soma, mult\n",
        "\n",
        "resultSoma, resultMult = soma(10, 20)\n",
        "print('Soma de 0 até n:', resultSoma)\n",
        "print('Mult de 0 até n:', resultMult)"
      ],
      "metadata": {
        "id": "HXiY7Hr9uu3i"
      },
      "execution_count": null,
      "outputs": []
    },
    {
      "cell_type": "markdown",
      "source": [
        "Vamos criar uma função que recebe uma lista como parametro e adicionar sendo opcional e default true <br>\n",
        "Essa função parâmetro chamado adicionar com valor default true.<br>\n",
        "Se es parâmetro tiver com valor true, deve-se adicionar a palavra 'Sorocaba' na lista"
      ],
      "metadata": {
        "id": "Mqd_R58vw0V3"
      }
    },
    {
      "cell_type": "code",
      "source": [
        "def gerenciaLista(lista, adicionar = True, retornaUltimo = False):\n",
        "  if adicionar:\n",
        "    lista.append('Sorocaba')\n",
        "\n",
        "  a = 2\n",
        "  primeiro = lista[0]\n",
        "  tamanho = len(lista)\n",
        "  if retornaUltimo:\n",
        "    ultimo = lista[-1]\n",
        "    return primeiro, tamanho, ultimo\n",
        "  return primeiro, tamanho\n",
        "\n",
        "## Testa função\n",
        "lista = ['Poxoréu', 'Guiratinga', 'Jarudore', 'Nabu']\n",
        "a = 0\n",
        "prim, tam = gerenciaLista(lista)\n",
        "print('Primeiro:', prim, '\\tTamanho:', tam)"
      ],
      "metadata": {
        "id": "lHekj7cIw4cW"
      },
      "execution_count": null,
      "outputs": []
    },
    {
      "cell_type": "markdown",
      "source": [
        "Algumas variaveis do tipo Object que são passados como paramentros para funções são passados com referencia e tipos primitivos não<br>\n",
        "Caso não deseje que seja passado por referencia adiciona o metodo copy()"
      ],
      "metadata": {
        "id": "D_-cgkH2351w"
      }
    },
    {
      "cell_type": "code",
      "source": [
        "def adicionar(lista, nome):\n",
        "  lista.append(nome)\n",
        "\n",
        "lista = ['Argélia']\n",
        "print('Lista:', lista)\n",
        "adicionar(lista, 'Bulgária')\n",
        "print('Lista:', lista)\n",
        "adicionar(lista.copy(), 'Sorocaba')\n",
        "print('Lista:', lista)"
      ],
      "metadata": {
        "id": "XxHdIw_X4GTD"
      },
      "execution_count": null,
      "outputs": []
    },
    {
      "cell_type": "markdown",
      "source": [
        "### Exercicio 01:\n",
        "\n",
        "---\n",
        "\n",
        "\n",
        "\n",
        "Crie uma função que recebe os sequintes parâmetros:\n",
        "- nome1: nome de uma pessoa\n",
        "- nome2: nome de uma pessoa\n",
        "- concatenar: valor default igual True\n",
        "- tamanho: valor default igual true\n",
        "\n",
        "Essa função deve criar uma lista com os dois nomes passados<br>\n",
        "\n",
        "Se concatenar for True, deve acrescentar os dois nomes concatenados ao final da lista. Senão deve concatenar, mas sem acresentar na lista<br>\n",
        "\n",
        "Se tamanho for True, deve imprimir os sequintes valores:\n",
        "- \"Grande\": se o tamanho dos nomes concatenados for maior que 10\n",
        "- \"Médio\": se o tamanho dos nomes concatenados for maior que 5 e menor ou igual a 10\n",
        "- \"Pequeno\": se o tamanho dos nomes concatenados for menor ou igual a 5\n",
        "\n",
        "Retorne a lista e o tamanho dos nomes concatenados"
      ],
      "metadata": {
        "id": "LtyeKCbM5SVA"
      }
    },
    {
      "cell_type": "code",
      "source": [
        "def criaLista(nome1, nome2, concatenar = True, tamanho = True):\n",
        "  lista = [nome1, nome2]\n",
        "  concatenado = nome1+nome2\n",
        "  if concatenar:\n",
        "    lista.append(concatenado)\n",
        "  if len(concatenado) > 10:\n",
        "    print('Grande')\n",
        "  elif len(concatenado) > 5:\n",
        "    print('Médio')\n",
        "  else:\n",
        "    print('Pequeno')\n",
        "  print(concatenado)\n",
        "  return lista, len(concatenado)\n",
        "\n",
        "criaLista('Julio', 'Cesar')"
      ],
      "metadata": {
        "id": "sWWuwR716pda"
      },
      "execution_count": null,
      "outputs": []
    }
  ]
}