{
  "nbformat": 4,
  "nbformat_minor": 0,
  "metadata": {
    "colab": {
      "provenance": [],
      "authorship_tag": "ABX9TyNAjdMwHAgVntgn0iM81cz5",
      "include_colab_link": true
    },
    "kernelspec": {
      "name": "python3",
      "display_name": "Python 3"
    },
    "language_info": {
      "name": "python"
    }
  },
  "cells": [
    {
      "cell_type": "markdown",
      "metadata": {
        "id": "view-in-github",
        "colab_type": "text"
      },
      "source": [
        "<a href=\"https://colab.research.google.com/github/JulioManoel/FACENS/blob/main/5%C2%B0%20Semestre/Estrutura%20de%20Dados/Aula%2003%20-%20Classes.ipynb\" target=\"_parent\"><img src=\"https://colab.research.google.com/assets/colab-badge.svg\" alt=\"Open In Colab\"/></a>"
      ]
    },
    {
      "cell_type": "markdown",
      "source": [
        "# Classes\n",
        "---\n",
        "\n",
        "No python as classes só possui 1 unico método construtor e normalmente são obrigatorio\n",
        "\n",
        "O método construtor utiliza a seguinte sintaxe: \n",
        "```python \n",
        "def __init__(self):\n",
        "```\n",
        "\n",
        "O self é utilizado para declarar e atribuir parametros no construtor sendo que é obrigatorio"
      ],
      "metadata": {
        "id": "nX4_HaC_rk2E"
      }
    },
    {
      "cell_type": "code",
      "source": [
        "class Carro:\n",
        "\n",
        "  def __init__(self, cor = 'Azul', velocidade = 0, marca = None):\n",
        "    self.cor = cor\n",
        "    self.velocidade = velocidade\n",
        "\n",
        "    if marca is None:\n",
        "      print('Você não passou a marca. Criei de forma automática')\n",
        "\n",
        "      if self.cor == 'Azul':\n",
        "        self.marca = 'Fiat'\n",
        "      else:\n",
        "        self.marca = 'Chevrolet'\n",
        "    else:\n",
        "      self.marca = marca\n",
        "\n",
        "  def acelerar(self):\n",
        "    self.velocidade += 10\n",
        "\n",
        "  def imprimir(self):\n",
        "    print('\\nCor:', self.cor)\n",
        "    print('Velocidade:', self.velocidade)\n",
        "    print('Marca:', self.marca)"
      ],
      "metadata": {
        "id": "WoDjiFB4sq1-"
      },
      "execution_count": null,
      "outputs": []
    },
    {
      "cell_type": "code",
      "source": [
        "# Instacia a classe do Carro\n",
        "carro = Carro()\n",
        "carro.imprimir()\n",
        "\n",
        "carro2 = Carro('Vermelhor')\n",
        "carro2.imprimir()\n",
        "\n",
        "carro3 = Carro(velocidade = 50)\n",
        "carro3.imprimir()"
      ],
      "metadata": {
        "id": "BQBx3WaZvElU"
      },
      "execution_count": null,
      "outputs": []
    },
    {
      "cell_type": "markdown",
      "source": [
        "### Exercícios 01:\n",
        "\n",
        "---\n",
        "Crie uma classe chamada Calculadora. \n",
        "- Essa classe deve receber dois números e passar para dois atributos: num1 e num2.\n",
        "- Crie quatro métodos que usem esses atributos: soma, substração, divisão e multiplicação. \n",
        "\n",
        "    - Esses métodos não devem imprimir o resultado, mas apenas retornar"
      ],
      "metadata": {
        "id": "4od9mzBC4SL6"
      }
    },
    {
      "cell_type": "code",
      "source": [
        "class Calculadora:\n",
        "\n",
        "  def __init__(self, num1, num2):\n",
        "    self.num1 = num1\n",
        "    self.num2 = num2\n",
        "  \n",
        "  def soma(self):\n",
        "    return self.num1 + self.num2\n",
        "  \n",
        "  def subtracao(self):\n",
        "    return self.num1 - self.num2\n",
        "  \n",
        "  def divisao(self):\n",
        "    return self.num1 / self.num2\n",
        "  \n",
        "  def multiplicacao(self):\n",
        "    return self.num1 * self.num2\n",
        "\n",
        "calculadora = Calculadora(1, 2)\n",
        "print(calculadora.num1, '+', calculadora.num2, '=', calculadora.soma())\n",
        "print(calculadora.num1, '-', calculadora.num2, '=', calculadora.subtracao())\n",
        "print(calculadora.num1, '/', calculadora.num2, '=', calculadora.divisao())\n",
        "print(calculadora.num1, 'x', calculadora.num2, '=', calculadora.multiplicacao())"
      ],
      "metadata": {
        "id": "HCDLspNv4roX"
      },
      "execution_count": null,
      "outputs": []
    },
    {
      "cell_type": "markdown",
      "source": [
        "### Exercio 02:\n",
        "---\n",
        "\n",
        "Escreva uma classe cujos objetos representam alunos matriculados em uma\n",
        "disciplina. Cada objeto dessa classe deve guardar os seguintes dados do aluno:\n",
        "matrícula, nome, 2 notas de prova e 1 nota de trabalho. Escreva os seguintes\n",
        "métodos para esta classe:\n",
        "    - media: calcula a média final do aluno (cada prova tem peso 2,5 e o trabalho tem peso 2)\n",
        "    - final: calcula quanto o aluno precisa para a prova final (retorna zero se ele não for para a\n",
        "final)\n",
        "    \n",
        "Depois, crie dois objetos do tipo aluno e imprima a média e o quanto eles\n",
        "precisam para a prova final."
      ],
      "metadata": {
        "id": "TOXGSO-Y6cny"
      }
    },
    {
      "cell_type": "code",
      "source": [
        "class Aluno:\n",
        "\n",
        "  def __init__(self, matricula, nome, nota1, nota2, trabalho):\n",
        "    self.matricula = matricula\n",
        "    self.nome = nome\n",
        "    self.nota1 = nota1\n",
        "    self.nota2 = nota2\n",
        "    self.trabalho = trabalho\n",
        "\n",
        "  def media(self):\n",
        "    self.media = (0.25 * self.nota1) + (0.25 * self.nota2) + (0.2 * self.trabalho)\n",
        "    print('Média é', self.media)\n",
        "\n",
        "  def final(self):\n",
        "    if self.media < 2:\n",
        "      print('Infelismente você esta Reprovado')\n",
        "    elif self.media >= 5:\n",
        "      print('Já está Aprovado')\n",
        "    else:\n",
        "      print('Você precisa para ser Aprovado de', 5-self.media)\n",
        "\n",
        "aluno1 = Aluno(210358, 'Julio', 10, 0, 0)\n",
        "aluno1.media()\n",
        "aluno1.final()\n",
        "\n",
        "aluno2 = Aluno(210369, 'Astoufo', 10, 9, 0)\n",
        "aluno2.media()\n",
        "aluno2.final()"
      ],
      "metadata": {
        "id": "L1NtzVSV6m08"
      },
      "execution_count": null,
      "outputs": []
    }
  ]
}