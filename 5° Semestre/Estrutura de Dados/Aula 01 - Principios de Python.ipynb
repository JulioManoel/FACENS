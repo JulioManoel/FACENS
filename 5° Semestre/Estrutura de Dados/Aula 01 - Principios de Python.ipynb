{
  "nbformat": 4,
  "nbformat_minor": 0,
  "metadata": {
    "colab": {
      "provenance": [],
      "authorship_tag": "ABX9TyO4jbCzqPjh3u56aOjGfJDG",
      "include_colab_link": true
    },
    "kernelspec": {
      "name": "python3",
      "display_name": "Python 3"
    },
    "language_info": {
      "name": "python"
    }
  },
  "cells": [
    {
      "cell_type": "markdown",
      "metadata": {
        "id": "view-in-github",
        "colab_type": "text"
      },
      "source": [
        "<a href=\"https://colab.research.google.com/github/JulioManoel/FACENS/blob/main/5%C2%B0%20Semestre/Estrutura%20de%20Dados/Aula%2001%20-%20Principios%20de%20Python.ipynb\" target=\"_parent\"><img src=\"https://colab.research.google.com/assets/colab-badge.svg\" alt=\"Open In Colab\"/></a>"
      ]
    },
    {
      "cell_type": "markdown",
      "source": [
        "# Introdução a Python\n",
        "\n",
        "---"
      ],
      "metadata": {
        "id": "9SXKXs06vN2t"
      }
    },
    {
      "cell_type": "code",
      "execution_count": null,
      "metadata": {
        "id": "SVPc2k93vCkJ"
      },
      "outputs": [],
      "source": [
        "a = 5\n",
        "print(a)"
      ]
    },
    {
      "cell_type": "code",
      "source": [
        "del a"
      ],
      "metadata": {
        "id": "lugohZ6BvTCv"
      },
      "execution_count": null,
      "outputs": []
    },
    {
      "cell_type": "markdown",
      "source": [
        "## Tipos de Variaveis\n",
        "\n",
        "---\n",
        "\n",
        "\n",
        "True e False tem que ser Maiusculo"
      ],
      "metadata": {
        "id": "fd7PJs8pwTyy"
      }
    },
    {
      "cell_type": "code",
      "source": [
        "a = True\n",
        "b = False"
      ],
      "metadata": {
        "id": "cCJpt8iYwXA4"
      },
      "execution_count": null,
      "outputs": []
    },
    {
      "cell_type": "markdown",
      "source": [
        "Função de raiz quadrada = a**0,5"
      ],
      "metadata": {
        "id": "QHxCkunUwoYr"
      }
    },
    {
      "cell_type": "code",
      "source": [
        "a = 4**0,5\n",
        "print(a)"
      ],
      "metadata": {
        "id": "IT3g2cBPwsKs"
      },
      "execution_count": null,
      "outputs": []
    },
    {
      "cell_type": "markdown",
      "source": [
        "## Estrutura de Decição\n",
        "\n",
        "---\n",
        "\n",
        "\n",
        "If condição:<br>\n",
        "  comando<br>\n",
        "elif condição:<br>\n",
        "  comando"
      ],
      "metadata": {
        "id": "uiEErdLrx7HX"
      }
    },
    {
      "cell_type": "code",
      "source": [
        "a = 5\n",
        "b = 6\n",
        "if a==5 and b==6:\n",
        "  print(5)"
      ],
      "metadata": {
        "id": "cxuy2TLJyKpP"
      },
      "execution_count": null,
      "outputs": []
    },
    {
      "cell_type": "markdown",
      "source": [
        "Troca variavel, a,b = b,a"
      ],
      "metadata": {
        "id": "55VrSF4Ny0-Y"
      }
    },
    {
      "cell_type": "code",
      "source": [
        "a = 5\n",
        "a = 6\n",
        "a,b = b,a\n",
        "print(a)\n",
        "print(b)"
      ],
      "metadata": {
        "id": "wdiKK5UmyVHu"
      },
      "execution_count": null,
      "outputs": []
    },
    {
      "cell_type": "markdown",
      "source": [
        "### Exemplo 01:\n",
        "\n",
        "---\n",
        "\n",
        "\n",
        "- Verificar a paridade de a\n",
        "- Se par, dobra o valor\n",
        "- Senão, zera o valor\n",
        "- Mostra o valor de a\n",
        "- Sendo a=**5**"
      ],
      "metadata": {
        "id": "T9Pfc561zK-I"
      }
    },
    {
      "cell_type": "code",
      "source": [
        "a = 5\n",
        "\n",
        "if a%2 == 0:\n",
        "  a*2\n",
        "else:\n",
        "  a=0\n",
        "print(a)"
      ],
      "metadata": {
        "id": "d7w9czWazYnO"
      },
      "execution_count": null,
      "outputs": []
    },
    {
      "cell_type": "markdown",
      "source": [
        "## Estrutura de Repetição\n",
        "\n",
        "---\n",
        "\n",
        "\n",
        "### Foreacht\n",
        "\n",
        "for elem in a:\n",
        "  <br>repete\n",
        "\n",
        "### Foreacht + index\n",
        "\n",
        "for i, elem in enumerate(a):\n",
        "  repete\n",
        "\n"
      ],
      "metadata": {
        "id": "76ut9dAX0klX"
      }
    },
    {
      "cell_type": "code",
      "source": [
        "a = [4, 8]\n",
        "soma = 0\n",
        "\n",
        "for i, elem, in enumerate(a):\n",
        "  soma += elem\n",
        "print(soma)"
      ],
      "metadata": {
        "id": "qjWO8fTN2Rmh"
      },
      "execution_count": null,
      "outputs": []
    },
    {
      "cell_type": "markdown",
      "source": [
        "### While\n",
        "\n",
        "---\n",
        "\n",
        "\n",
        "while cont<5:<br>\n",
        "  comando<br>\n",
        "  cont+=1"
      ],
      "metadata": {
        "id": "M5fiapK62gOr"
      }
    },
    {
      "cell_type": "code",
      "source": [
        "cont = 0\n",
        "while cont < 5:\n",
        "  cont += 1\n",
        "print(cont)"
      ],
      "metadata": {
        "id": "iqng5Smj2v_v"
      },
      "execution_count": null,
      "outputs": []
    },
    {
      "cell_type": "markdown",
      "source": [
        "### Exemplo 02:\n",
        "\n",
        "---\n",
        "\n",
        "\n",
        "- Mostrar os elementos repetidos de uma lista"
      ],
      "metadata": {
        "id": "hhK5EMK33DoA"
      }
    },
    {
      "cell_type": "code",
      "source": [
        "import time\n",
        "ini = time.time()\n",
        "a = [1, 2, 1]\n",
        "b = []\n",
        "\n",
        "for element in a:\n",
        "  if element in b:\n",
        "    print(element)\n",
        "  else:\n",
        "    b.append(element)\n",
        "fim = time.time()\n",
        "print(fim-ini)"
      ],
      "metadata": {
        "id": "hNr4n-ng3OQg"
      },
      "execution_count": null,
      "outputs": []
    },
    {
      "cell_type": "markdown",
      "source": [
        "### Sorted\n",
        "\n",
        "---\n",
        "\n",
        "\n",
        "Orderna os elementos que forem do array em ordem crescente ou decrecente\n",
        "a = sorted(a)"
      ],
      "metadata": {
        "id": "YXim3OXp8UiU"
      }
    },
    {
      "cell_type": "code",
      "source": [
        "a = [8, 7, 6, 4, 3]\n",
        "a = sorted(a)\n",
        "print(a)"
      ],
      "metadata": {
        "id": "T-QhHK7g9Hhy"
      },
      "execution_count": null,
      "outputs": []
    }
  ]
}