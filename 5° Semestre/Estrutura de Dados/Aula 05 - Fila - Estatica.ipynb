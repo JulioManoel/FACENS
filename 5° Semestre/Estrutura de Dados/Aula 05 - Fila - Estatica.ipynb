{
  "nbformat": 4,
  "nbformat_minor": 0,
  "metadata": {
    "colab": {
      "provenance": [],
      "authorship_tag": "ABX9TyNKgeoLJAoKqB4KZw7S/7Oc",
      "include_colab_link": true
    },
    "kernelspec": {
      "name": "python3",
      "display_name": "Python 3"
    },
    "language_info": {
      "name": "python"
    }
  },
  "cells": [
    {
      "cell_type": "markdown",
      "metadata": {
        "id": "view-in-github",
        "colab_type": "text"
      },
      "source": [
        "<a href=\"https://colab.research.google.com/github/JulioManoel/FACENS/blob/main/5%C2%B0%20Semestre/Estrutura%20de%20Dados/Aula%2005%20-%20Fila%20-%20Estatica.ipynb\" target=\"_parent\"><img src=\"https://colab.research.google.com/assets/colab-badge.svg\" alt=\"Open In Colab\"/></a>"
      ]
    },
    {
      "cell_type": "markdown",
      "source": [
        "# Fila Estática"
      ],
      "metadata": {
        "id": "z7xeRiNF2GPU"
      }
    },
    {
      "cell_type": "code",
      "execution_count": 25,
      "metadata": {
        "colab": {
          "base_uri": "https://localhost:8080/"
        },
        "id": "8O3AqcO72FPZ",
        "outputId": "10c87334-a625-4f82-d431-d6e2279a1035"
      },
      "outputs": [
        {
          "output_type": "stream",
          "name": "stdout",
          "text": [
            "[]\n",
            "Erro (OVERFLOW)\n",
            "[3, 5, 7, 8, 9]\n"
          ]
        }
      ],
      "source": [
        "class Fila:\n",
        "  \"\"\"\n",
        "  Fila Estática Circular\n",
        "  \"\"\"\n",
        "\n",
        "  def __init__(self, capacity):\n",
        "    self.capacity = capacity\n",
        "    self.front = -1\n",
        "    self.rear = -1\n",
        "    self.size = 0\n",
        "    self.data = [None] * capacity\n",
        "\n",
        "  def isEmpty(self):\n",
        "    return self.size == 0\n",
        "\n",
        "  def isFull(self):\n",
        "    return self.size >= self.capacity\n",
        "\n",
        "  def enqueue(self, valor):\n",
        "    if self.isEmpty():\n",
        "      self.front = 0\n",
        "\n",
        "    if self.isFull():\n",
        "      print(\"Erro (OVERFLOW)\")\n",
        "      return\n",
        "      \n",
        "    if self.rear == self.capacity-1:\n",
        "      self.rear = 0\n",
        "    else:\n",
        "      self.rear += 1\n",
        "    self.data[self.rear] = valor\n",
        "    self.size += 1\n",
        "\n",
        "  def dequeue(self):\n",
        "    if self.isEmpty():\n",
        "      print(\"Erro UNDERFLOW\")\n",
        "      return\n",
        "    valorExcluido = self.data[self.front]\n",
        "\n",
        "    if self.size == 1:\n",
        "      self.rear = -1\n",
        "      self.front = -1\n",
        "    \n",
        "    elif self.front == self.capacity-1:\n",
        "      self.front = 0\n",
        "      \n",
        "    else:\n",
        "      self.front += 1\n",
        "    self.size += -1 \n",
        "    return valorExcluido\n",
        "\n",
        "  \n",
        "  def __str__(self):\n",
        "    if self.isEmpty():\n",
        "      return \"[]\"\n",
        "    else:\n",
        "      return str(self.data)\n",
        "\n",
        "## Testa fila\n",
        "fila = Fila(capacity= 5)\n",
        "print(fila)\n",
        "fila.enqueue(3)\n",
        "fila.enqueue(5)\n",
        "fila.enqueue(7)\n",
        "fila.enqueue(8)\n",
        "fila.enqueue(9)\n",
        "fila.enqueue(11)\n",
        "print(fila)"
      ]
    }
  ]
}